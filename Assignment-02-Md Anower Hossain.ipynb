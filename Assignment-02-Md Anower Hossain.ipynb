{
 "cells": [
  {
   "cell_type": "markdown",
   "id": "236ccd9e",
   "metadata": {},
   "source": [
    "# Question 1 - Take values of the length & breadth of a rectangle from user input and check if it is square or not."
   ]
  },
  {
   "cell_type": "code",
   "execution_count": 14,
   "id": "43aca7ad",
   "metadata": {},
   "outputs": [
    {
     "name": "stdout",
     "output_type": "stream",
     "text": [
      "What is the length of a rectangle?: 10\n",
      "What is the breadth of a rectangle?: 10\n",
      "It is a srquare\n"
     ]
    }
   ],
   "source": [
    "length = float(input('What is the length of a rectangle?: '))\n",
    "breadth = float(input('What is the breadth of a rectangle?: '))\n",
    "if length == breadth:\n",
    "    print('It is a srquare')\n",
    "else:\n",
    "    print('It is not a square')"
   ]
  },
  {
   "cell_type": "markdown",
   "id": "1b2087d6",
   "metadata": {},
   "source": [
    "# Question 2: Take three integer values from the user and print the greatest among them."
   ]
  },
  {
   "cell_type": "code",
   "execution_count": 29,
   "id": "64869dad",
   "metadata": {},
   "outputs": [
    {
     "name": "stdout",
     "output_type": "stream",
     "text": [
      "What is the first number?: 20\n",
      "What is the second number?: 200\n",
      "What is the third number?: 1000\n",
      "Maximum number is 1000\n"
     ]
    }
   ],
   "source": [
    "number1 = int(input('What is the first number?: '))\n",
    "number2 = int(input('What is the second number?: '))\n",
    "number3 = int(input('What is the third number?: '))\n",
    "\n",
    "if number3 > number2 and number3 > number1:\n",
    "    print(f'Maximum number is {number3}')\n",
    "elif number2 > number3 and number2 > number1:\n",
    "    print(f'Maximum number is {number2}')\n",
    "else:\n",
    "    print(f'Maximum number is {number1}')"
   ]
  },
  {
   "cell_type": "markdown",
   "id": "c567c9bc",
   "metadata": {},
   "source": [
    "# Question 3 - A student will not be allowed to sit in an exam if his/her attendance is less than 75%."
   ]
  },
  {
   "cell_type": "code",
   "execution_count": 34,
   "id": "d115a069",
   "metadata": {},
   "outputs": [
    {
     "name": "stdout",
     "output_type": "stream",
     "text": [
      "What is attendance of student in %?: 45\n",
      "Student cannot sit for the exam\n"
     ]
    }
   ],
   "source": [
    "attendance = float(input('What is attendance of student in %?: '))\n",
    "if attendance > 75:\n",
    "    print('Student can sit for exam')\n",
    "else:\n",
    "    print('Student cannot sit for the exam')"
   ]
  },
  {
   "cell_type": "markdown",
   "id": "bee62bd3",
   "metadata": {},
   "source": [
    "# Question 4 - A school has the following rules for the grading system:\n",
    "Below 25 – F, 25 to 44 – E, 45 to 49 – D, 50 to 59 – C, 60 to 79 – B, 80 to 89 - A, Above 90 - A+\n",
    "Now, Ask the user to enter marks and print the corresponding grade."
   ]
  },
  {
   "cell_type": "code",
   "execution_count": 46,
   "id": "a4f60967",
   "metadata": {},
   "outputs": [
    {
     "name": "stdout",
     "output_type": "stream",
     "text": [
      "What is the marks obtained?: 45\n",
      "Grade is: D\n"
     ]
    }
   ],
   "source": [
    "grade = int(input('What is the marks obtained?: '))\n",
    "\n",
    "if grade < 25:\n",
    "    print('Grade is: F')\n",
    "elif 25 <= grade <= 44:\n",
    "    print('Grade is: E')\n",
    "elif 45 <= grade <= 49:\n",
    "    print('Grade is: D')\n",
    "elif 50 <= grade <= 59:\n",
    "    print('Grade is: C')\n",
    "elif 60 <= grade <= 79:\n",
    "    print('Grade is: B')\n",
    "elif 80 <= grade <= 89:\n",
    "    print('Grade is: A')\n",
    "else:\n",
    "    print('Grade is: A+')"
   ]
  },
  {
   "cell_type": "markdown",
   "id": "f645e27a",
   "metadata": {},
   "source": [
    "# Question 5 - Print the following pattern using for and while loop.\n",
    "1 2 3 4 5 6 7\n",
    "1 2 3 4 5 6\n",
    "1 2 3 4 5\n",
    "1 2 3 4"
   ]
  },
  {
   "cell_type": "code",
   "execution_count": 85,
   "id": "00a30112",
   "metadata": {},
   "outputs": [
    {
     "name": "stdout",
     "output_type": "stream",
     "text": [
      "1 2 3 4 5 6 7 \n",
      "1 2 3 4 5 6 \n",
      "1 2 3 4 5 \n",
      "1 2 3 4 \n"
     ]
    }
   ],
   "source": [
    "#For loop\n",
    "\n",
    "numbers = range(7, 3, -1)\n",
    "\n",
    "for i in numbers:\n",
    "    for x in range(1, i+1):\n",
    "        print(x, end = ' ')\n",
    "    print()"
   ]
  },
  {
   "cell_type": "markdown",
   "id": "7b5ecf79",
   "metadata": {},
   "source": [
    "# Question 6 - Display numbers from -100 to -10 using for loop."
   ]
  },
  {
   "cell_type": "code",
   "execution_count": 91,
   "id": "97b6e06f",
   "metadata": {},
   "outputs": [
    {
     "name": "stdout",
     "output_type": "stream",
     "text": [
      "1 2 3 4 5 6 7 \n",
      "1 2 3 4 5 6 \n",
      "1 2 3 4 5 \n",
      "1 2 3 4 \n"
     ]
    }
   ],
   "source": [
    "#While loop\n",
    "\n",
    "num = 7\n",
    "while num >= 4:\n",
    "    i = 1\n",
    "    while i <= num:\n",
    "        print(i, end = ' ')\n",
    "        i += 1\n",
    "    print()\n",
    "    num -= 1\n",
    "    if num < 4:\n",
    "        break\n",
    "    "
   ]
  },
  {
   "cell_type": "markdown",
   "id": "38f70ec8",
   "metadata": {},
   "source": [
    "# Question 6 - Display numbers from -100 to -10 using for loop."
   ]
  },
  {
   "cell_type": "code",
   "execution_count": 50,
   "id": "c9d4975c",
   "metadata": {},
   "outputs": [
    {
     "name": "stdout",
     "output_type": "stream",
     "text": [
      "-100 -99 -98 -97 -96 -95 -94 -93 -92 -91 -90 -89 -88 -87 -86 -85 -84 -83 -82 -81 -80 -79 -78 -77 -76 -75 -74 -73 -72 -71 -70 -69 -68 -67 -66 -65 -64 -63 -62 -61 -60 -59 -58 -57 -56 -55 -54 -53 -52 -51 -50 -49 -48 -47 -46 -45 -44 -43 -42 -41 -40 -39 -38 -37 -36 -35 -34 -33 -32 -31 -30 -29 -28 -27 -26 -25 -24 -23 -22 -21 -20 -19 -18 -17 -16 -15 -14 -13 -12 -11 -10 "
     ]
    }
   ],
   "source": [
    "num = range(-100, -9)\n",
    "for i in num:\n",
    "    print(i, end = ' ')"
   ]
  },
  {
   "cell_type": "markdown",
   "id": "858d34ca",
   "metadata": {},
   "source": [
    "# Question 7 - Write a program to sum all prime numbers within a range of 10 to 1000."
   ]
  },
  {
   "cell_type": "code",
   "execution_count": 51,
   "id": "059764ca",
   "metadata": {},
   "outputs": [
    {
     "name": "stdout",
     "output_type": "stream",
     "text": [
      "10 11 12 13 14 15 16 17 18 19 20 21 22 23 24 25 26 27 28 29 30 31 32 33 34 35 36 37 38 39 40 41 42 43 44 45 46 47 48 49 50 51 52 53 54 55 56 57 58 59 60 61 62 63 64 65 66 67 68 69 70 71 72 73 74 75 76 77 78 79 80 81 82 83 84 85 86 87 88 89 90 91 92 93 94 95 96 97 98 99 100 101 102 103 104 105 106 107 108 109 110 111 112 113 114 115 116 117 118 119 120 121 122 123 124 125 126 127 128 129 130 131 132 133 134 135 136 137 138 139 140 141 142 143 144 145 146 147 148 149 150 151 152 153 154 155 156 157 158 159 160 161 162 163 164 165 166 167 168 169 170 171 172 173 174 175 176 177 178 179 180 181 182 183 184 185 186 187 188 189 190 191 192 193 194 195 196 197 198 199 200 201 202 203 204 205 206 207 208 209 210 211 212 213 214 215 216 217 218 219 220 221 222 223 224 225 226 227 228 229 230 231 232 233 234 235 236 237 238 239 240 241 242 243 244 245 246 247 248 249 250 251 252 253 254 255 256 257 258 259 260 261 262 263 264 265 266 267 268 269 270 271 272 273 274 275 276 277 278 279 280 281 282 283 284 285 286 287 288 289 290 291 292 293 294 295 296 297 298 299 300 301 302 303 304 305 306 307 308 309 310 311 312 313 314 315 316 317 318 319 320 321 322 323 324 325 326 327 328 329 330 331 332 333 334 335 336 337 338 339 340 341 342 343 344 345 346 347 348 349 350 351 352 353 354 355 356 357 358 359 360 361 362 363 364 365 366 367 368 369 370 371 372 373 374 375 376 377 378 379 380 381 382 383 384 385 386 387 388 389 390 391 392 393 394 395 396 397 398 399 400 401 402 403 404 405 406 407 408 409 410 411 412 413 414 415 416 417 418 419 420 421 422 423 424 425 426 427 428 429 430 431 432 433 434 435 436 437 438 439 440 441 442 443 444 445 446 447 448 449 450 451 452 453 454 455 456 457 458 459 460 461 462 463 464 465 466 467 468 469 470 471 472 473 474 475 476 477 478 479 480 481 482 483 484 485 486 487 488 489 490 491 492 493 494 495 496 497 498 499 500 501 502 503 504 505 506 507 508 509 510 511 512 513 514 515 516 517 518 519 520 521 522 523 524 525 526 527 528 529 530 531 532 533 534 535 536 537 538 539 540 541 542 543 544 545 546 547 548 549 550 551 552 553 554 555 556 557 558 559 560 561 562 563 564 565 566 567 568 569 570 571 572 573 574 575 576 577 578 579 580 581 582 583 584 585 586 587 588 589 590 591 592 593 594 595 596 597 598 599 600 601 602 603 604 605 606 607 608 609 610 611 612 613 614 615 616 617 618 619 620 621 622 623 624 625 626 627 628 629 630 631 632 633 634 635 636 637 638 639 640 641 642 643 644 645 646 647 648 649 650 651 652 653 654 655 656 657 658 659 660 661 662 663 664 665 666 667 668 669 670 671 672 673 674 675 676 677 678 679 680 681 682 683 684 685 686 687 688 689 690 691 692 693 694 695 696 697 698 699 700 701 702 703 704 705 706 707 708 709 710 711 712 713 714 715 716 717 718 719 720 721 722 723 724 725 726 727 728 729 730 731 732 733 734 735 736 737 738 739 740 741 742 743 744 745 746 747 748 749 750 751 752 753 754 755 756 757 758 759 760 761 762 763 764 765 766 767 768 769 770 771 772 773 774 775 776 777 778 779 780 781 782 783 784 785 786 787 788 789 790 791 792 793 794 795 796 797 798 799 800 801 802 803 804 805 806 807 808 809 810 811 812 813 814 815 816 817 818 819 820 821 822 823 824 825 826 827 828 829 830 831 832 833 834 835 836 837 838 839 840 841 842 843 844 845 846 847 848 849 850 851 852 853 854 855 856 857 858 859 860 861 862 863 864 865 866 867 868 869 870 871 872 873 874 875 876 877 878 879 880 881 882 883 884 885 886 887 888 889 890 891 892 893 894 895 896 897 898 899 900 901 902 903 904 905 906 907 908 909 910 911 912 913 914 915 916 917 918 919 920 921 922 923 924 925 926 927 928 929 930 931 932 933 934 935 936 937 938 939 940 941 942 943 944 945 946 947 948 949 950 951 952 953 954 955 956 957 958 959 960 961 962 963 964 965 966 967 968 969 970 971 972 973 974 975 976 977 978 979 980 981 982 983 984 985 986 987 988 989 990 991 992 993 994 995 996 997 998 999 1000 "
     ]
    }
   ],
   "source": [
    "num_prime = range(10, 1001)\n",
    "for i in num_prime:\n",
    "    if i/i == 1:\n",
    "        print(i, end = ' ')"
   ]
  },
  {
   "cell_type": "markdown",
   "id": "9fcbb948",
   "metadata": {},
   "source": [
    "# Question 8 -Find the factorial of an n! (Hint, n=7: 7*6*5*4*3*2*1)."
   ]
  },
  {
   "cell_type": "code",
   "execution_count": 117,
   "id": "210bfb24",
   "metadata": {},
   "outputs": [
    {
     "name": "stdout",
     "output_type": "stream",
     "text": [
      "The factorial of 7! is 5040\n"
     ]
    }
   ],
   "source": [
    "n = 7\n",
    "total = 1\n",
    "for i in range(1, n+1):\n",
    "    total *= i\n",
    "print(f'The factorial of 7! is {total}')"
   ]
  },
  {
   "cell_type": "markdown",
   "id": "7383b994",
   "metadata": {},
   "source": [
    "# Question 9 - Reverse a given integer number 27956240710."
   ]
  },
  {
   "cell_type": "code",
   "execution_count": 6,
   "id": "55fb8deb",
   "metadata": {},
   "outputs": [
    {
     "data": {
      "text/plain": [
       "1704265972"
      ]
     },
     "execution_count": 6,
     "metadata": {},
     "output_type": "execute_result"
    }
   ],
   "source": [
    "#String slicing option\n",
    "\n",
    "num1 = 27956240710\n",
    "num1_reverse = int(str(num1)[::-1])\n",
    "num1_reverse"
   ]
  },
  {
   "cell_type": "markdown",
   "id": "e237fdba",
   "metadata": {},
   "source": [
    "# Question 10 - Print the following pattern using for and while loop.\n",
    "\n",
    "# # #\n",
    "# # # #\n",
    "# # #\n",
    "# #"
   ]
  },
  {
   "cell_type": "code",
   "execution_count": 121,
   "id": "ccf0920b",
   "metadata": {},
   "outputs": [
    {
     "name": "stdout",
     "output_type": "stream",
     "text": [
      "###\n",
      "####\n",
      "###\n",
      "##\n"
     ]
    }
   ],
   "source": [
    "\n",
    "#For loop\n",
    "\n",
    "list = [3, 4, 3, 2]\n",
    "\n",
    "for i in list:\n",
    "   print(i*'#')"
   ]
  },
  {
   "cell_type": "code",
   "execution_count": 136,
   "id": "49e0c4f4",
   "metadata": {},
   "outputs": [
    {
     "name": "stdout",
     "output_type": "stream",
     "text": [
      "###\n",
      "####\n",
      "###\n",
      "##\n"
     ]
    }
   ],
   "source": [
    "# alternative for loop\n",
    "\n",
    "list = [3, 4, 3, 2]\n",
    "\n",
    "for i in list:\n",
    "    j = ''\n",
    "    for x in range(i):\n",
    "        j += '#'\n",
    "    print(j)"
   ]
  },
  {
   "cell_type": "code",
   "execution_count": null,
   "id": "de069ed7",
   "metadata": {},
   "outputs": [],
   "source": [
    "#while loop\n",
    "    \n",
    "i = 0\n",
    "while i < 4:\n",
    "    if i < 2:\n",
    "        print('#'* (i+3))\n",
    "    else:\n",
    "        print('#'*2)\n",
    "    i += 1\n",
    "    print()"
   ]
  },
  {
   "cell_type": "code",
   "execution_count": 143,
   "id": "6ebc933e",
   "metadata": {},
   "outputs": [
    {
     "name": "stdout",
     "output_type": "stream",
     "text": [
      "###\n",
      "####\n",
      "###\n",
      "##\n"
     ]
    }
   ],
   "source": [
    "#while loop\n",
    "\n",
    "row = 0\n",
    "while row <=3:\n",
    "    if row == 0 or row == 2:\n",
    "        print('###')\n",
    "    elif row == 1:\n",
    "        print('####')\n",
    "    else:\n",
    "        print('##')\n",
    "    row += 1"
   ]
  },
  {
   "cell_type": "markdown",
   "id": "1ed7303d",
   "metadata": {},
   "source": [
    "# Question 11 - Display the Fibonacci series of 15 elements using the for and while loop."
   ]
  },
  {
   "cell_type": "code",
   "execution_count": 167,
   "id": "4b86c8d8",
   "metadata": {},
   "outputs": [
    {
     "name": "stdout",
     "output_type": "stream",
     "text": [
      "0 1 1 2 3 5 8 13 21 34 55 89 144 233 377 "
     ]
    }
   ],
   "source": [
    "#For loop\n",
    "\n",
    "n1 = 0\n",
    "n2 = 1\n",
    "i = 0\n",
    "for i in range(15):\n",
    "    print(n1, end = ' ')\n",
    "    \n",
    "    n3 = n1+n2\n",
    "    n1 = n2\n",
    "    n2 = n3"
   ]
  },
  {
   "cell_type": "code",
   "execution_count": 165,
   "id": "4678f42a",
   "metadata": {},
   "outputs": [
    {
     "name": "stdout",
     "output_type": "stream",
     "text": [
      "0 1 1 2 3 5 8 13 21 34 55 89 144 233 377 "
     ]
    }
   ],
   "source": [
    "#While loop\n",
    "\n",
    "n1 = 0\n",
    "n2 = 1\n",
    "i = 0\n",
    "while (i < 15):\n",
    "    print(n1, end = ' ')\n",
    "    n3 = n1 + n2\n",
    "    n1 = n2\n",
    "    n2 = n3\n",
    "    i += 1"
   ]
  },
  {
   "cell_type": "markdown",
   "id": "e1f5f266",
   "metadata": {},
   "source": [
    "# Question 12 - Remove 2 and add 3 to the list and replace True with False.\n",
    "Li = [1,3,5, [2,3], True]\n",
    "Output = [1,3,5, [3,3], False]"
   ]
  },
  {
   "cell_type": "code",
   "execution_count": 195,
   "id": "c2e8ec5a",
   "metadata": {},
   "outputs": [
    {
     "data": {
      "text/plain": [
       "[1, 3, 5, [3, 3], False]"
      ]
     },
     "execution_count": 195,
     "metadata": {},
     "output_type": "execute_result"
    }
   ],
   "source": [
    "Li = [1,3,5, [2,3], True]\n",
    "Li[3][0] = 3 # remove 2 and add 2 to the list\n",
    "Li[-1] = False\n",
    "Li"
   ]
  },
  {
   "cell_type": "markdown",
   "id": "24e12fbd",
   "metadata": {},
   "source": [
    "# Question 13 - Find the intersection (common) of two sets.\n",
    "S1 = {1,4,6,8}\n",
    "S2 = {True, 1,2,10}"
   ]
  },
  {
   "cell_type": "code",
   "execution_count": 9,
   "id": "7c7c814a",
   "metadata": {},
   "outputs": [
    {
     "data": {
      "text/plain": [
       "{True}"
      ]
     },
     "execution_count": 9,
     "metadata": {},
     "output_type": "execute_result"
    }
   ],
   "source": [
    "S1 = {1,4,6,8}\n",
    "S2 = {True,1,2,10}\n",
    "S2.intersection(S1)"
   ]
  },
  {
   "cell_type": "markdown",
   "id": "ec481fed",
   "metadata": {},
   "source": [
    "# Question 14 - Input a list from the user then Remove duplicates from a list and create a set and find the max\n",
    "number. User_input = [1,9,3,4,5,200,54]"
   ]
  },
  {
   "cell_type": "code",
   "execution_count": 24,
   "id": "194371ce",
   "metadata": {},
   "outputs": [
    {
     "name": "stdout",
     "output_type": "stream",
     "text": [
      "What are the numbers?: 1 9 3 4 5 200 54\n",
      "Input list =  [1, 9, 3, 4, 5, 200, 54]\n",
      "Set without duplicate:  {1, 3, 4, 5, 200, 9, 54}\n",
      "Max number in set:  200\n"
     ]
    }
   ],
   "source": [
    "user_number = input('What are the numbers?: ')\n",
    "list = [int(x) for x in user_number.split()]\n",
    "\n",
    "list1 = set(list)\n",
    "max_number_set = max(list1)\n",
    "print('Input list = ', list)\n",
    "print('Set without duplicate: ', list1)\n",
    "print('Max number in set: ', max_number_set)"
   ]
  },
  {
   "cell_type": "markdown",
   "id": "fbefea15",
   "metadata": {},
   "source": [
    "# Question 15 - Rename the key of a dictionary.\n",
    "Dict = { \"name\": \"Shakil\", \"age\":27, \"city\": “Berlin”, \"country\": \"Germany\" }\n",
    "Write a program to rename a key ‘country’ to a ‘region’ in the following dictionary."
   ]
  },
  {
   "cell_type": "code",
   "execution_count": 43,
   "id": "2b912ac4",
   "metadata": {},
   "outputs": [
    {
     "data": {
      "text/plain": [
       "{'name': 'Shakil', 'age': 27, 'city': 'Berlin', 'region': 'Germany'}"
      ]
     },
     "execution_count": 43,
     "metadata": {},
     "output_type": "execute_result"
    }
   ],
   "source": [
    "Dict = { \"name\": \"Shakil\", \"age\":27, \"city\": \"Berlin\", \"country\": \"Germany\" }\n",
    "if 'country' in Dict:\n",
    "    Dict[\"region\"] = Dict[\"country\"]\n",
    "    del Dict[\"country\"]\n",
    "Dict"
   ]
  },
  {
   "cell_type": "markdown",
   "id": "8866b7b8",
   "metadata": {},
   "source": [
    "# Question 16 - Creating a data frame using the list.\n",
    "num = [10,100,300] (column name is number)"
   ]
  },
  {
   "cell_type": "code",
   "execution_count": 45,
   "id": "dd25e999",
   "metadata": {},
   "outputs": [
    {
     "data": {
      "text/html": [
       "<div>\n",
       "<style scoped>\n",
       "    .dataframe tbody tr th:only-of-type {\n",
       "        vertical-align: middle;\n",
       "    }\n",
       "\n",
       "    .dataframe tbody tr th {\n",
       "        vertical-align: top;\n",
       "    }\n",
       "\n",
       "    .dataframe thead th {\n",
       "        text-align: right;\n",
       "    }\n",
       "</style>\n",
       "<table border=\"1\" class=\"dataframe\">\n",
       "  <thead>\n",
       "    <tr style=\"text-align: right;\">\n",
       "      <th></th>\n",
       "      <th>number</th>\n",
       "    </tr>\n",
       "  </thead>\n",
       "  <tbody>\n",
       "    <tr>\n",
       "      <th>0</th>\n",
       "      <td>10</td>\n",
       "    </tr>\n",
       "    <tr>\n",
       "      <th>1</th>\n",
       "      <td>100</td>\n",
       "    </tr>\n",
       "    <tr>\n",
       "      <th>2</th>\n",
       "      <td>300</td>\n",
       "    </tr>\n",
       "  </tbody>\n",
       "</table>\n",
       "</div>"
      ],
      "text/plain": [
       "   number\n",
       "0      10\n",
       "1     100\n",
       "2     300"
      ]
     },
     "execution_count": 45,
     "metadata": {},
     "output_type": "execute_result"
    }
   ],
   "source": [
    "import pandas as pd\n",
    "import numpy as np\n",
    "\n",
    "num = [10,100,300]\n",
    "\n",
    "pd.DataFrame(num, columns = ['number'])\n"
   ]
  },
  {
   "cell_type": "markdown",
   "id": "a0665185",
   "metadata": {},
   "source": [
    "# Question 17 - Change the value of a key in a given dictionary.\n",
    "Write a Python program to change ‘age’ to 28 in the following dictionary.\n",
    "Dict = { \"name\": \"Shakil\", \"age\":27, \"city\": “Berlin”, \"country\": \"Germany\" }"
   ]
  },
  {
   "cell_type": "code",
   "execution_count": 48,
   "id": "288a59cd",
   "metadata": {},
   "outputs": [
    {
     "data": {
      "text/plain": [
       "{'name': 'Shakil', 'age': 28, 'city': 'Berlin', 'country': 'Germany'}"
      ]
     },
     "execution_count": 48,
     "metadata": {},
     "output_type": "execute_result"
    }
   ],
   "source": [
    "Dict = { \"name\": \"Shakil\", \"age\":27, \"city\": 'Berlin', \"country\": \"Germany\" }\n",
    "\n",
    "Dict['age'] = 28\n",
    "\n",
    "Dict"
   ]
  },
  {
   "cell_type": "code",
   "execution_count": null,
   "id": "8e0562aa",
   "metadata": {},
   "outputs": [],
   "source": []
  }
 ],
 "metadata": {
  "kernelspec": {
   "display_name": "Python 3 (ipykernel)",
   "language": "python",
   "name": "python3"
  },
  "language_info": {
   "codemirror_mode": {
    "name": "ipython",
    "version": 3
   },
   "file_extension": ".py",
   "mimetype": "text/x-python",
   "name": "python",
   "nbconvert_exporter": "python",
   "pygments_lexer": "ipython3",
   "version": "3.10.9"
  }
 },
 "nbformat": 4,
 "nbformat_minor": 5
}
